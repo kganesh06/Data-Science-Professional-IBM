{
  "metadata": {
    "language_info": {
      "name": ""
    },
    "kernelspec": {
      "name": "",
      "display_name": ""
    }
  },
  "nbformat_minor": 4,
  "nbformat": 4,
  "cells": [
    {
      "cell_type": "markdown",
      "source": "<h1>My sample notebook</h1>",
      "metadata": {}
    },
    {
      "cell_type": "markdown",
      "source": "<h4>Adding Two Numbers</h4>",
      "metadata": {}
    },
    {
      "cell_type": "code",
      "source": "print(5+7)",
      "metadata": {},
      "execution_count": null,
      "outputs": []
    },
    {
      "cell_type": "code",
      "source": "",
      "metadata": {},
      "execution_count": null,
      "outputs": []
    }
  ]
}